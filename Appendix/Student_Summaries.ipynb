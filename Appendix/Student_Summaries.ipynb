{
 "cells": [
  {
   "attachments": {},
   "cell_type": "markdown",
   "metadata": {},
   "source": [
    "# Student Participation (Spring 2024)\n",
    "Students will work in pairs to produce summaries of each class meeting.  These summaries should list the main topics discussed and emphasized ideas/examples during the respective lecture.  Students are encouraged to be as detailed as possible without being overly verbose.  The summaries should be submitted as a [pull request](https://docs.github.com/en/codespaces/the-githubdev-web-based-editor) from **your forked repository** before the next class meeting.\n"
   ]
  },
  {
   "attachments": {},
   "cell_type": "markdown",
   "metadata": {},
   "source": [
    "## Jan 8\n",
    "### Class Overview\n",
    "- **Introductions**\n",
    "  - Add detail using bullets\n",
    "- **Syllabus**\n",
    "\n",
    "- **Course website**\n",
    "\n",
    "- **GitHub accounts**\n",
    "\n"
   ]
  },
  {
   "attachments": {},
   "cell_type": "markdown",
   "metadata": {},
   "source": [
    "## Jan 10 \n",
    "### Continuous Spectrum of Light Part I\n",
    "\n",
    "- **1.1 Stellar Parallax** \n",
    "\n",
    "    - Add detail using bullets\n",
    "\n",
    "\n",
    "- **1.2 The Magnitude Scale** \n",
    "    - **1.2.1 Apparent Magnitude**\n",
    "\n",
    "\n",
    "\n",
    "    - **1.2.2 Flus, Luminosity, and the Inverse Square Law** \n",
    "\n",
    "\n",
    "    - **1.2.3 Flux Ratios and Apparent Magnitude** \n",
    "\n",
    "    - **1.2.4 Absolute Magnitude and the Distance Modulus** \n",
    "\n",
    "- **1.3 The Wave Nature of Light**\n",
    "\n",
    "    - **1.3.1 The Speed of Light**\n",
    "\n",
    "    - **1.3.2 Young's Double-Slit Experiment**\n",
    "\n",
    "    - **1.3.3 Maxwell's Electromagnetic Wave Theory**\n",
    "\n",
    "    - **1.3.4 The Poynting Vector and Radiation Pressure**"
   ]
  },
  {
   "cell_type": "markdown",
   "metadata": {},
   "source": [
    "## Jan 15 (MLK Day)\n",
    "### No Class"
   ]
  },
  {
   "cell_type": "markdown",
   "metadata": {},
   "source": [
    "## Jan 17\n",
    "### Continuous Spectrum of Light Part II"
   ]
  },
  {
   "cell_type": "markdown",
   "metadata": {},
   "source": [
    "## Jan 22\n",
    "### Interaction of Matter and Light Part I"
   ]
  },
  {
   "cell_type": "markdown",
   "metadata": {},
   "source": [
    "## Jan 24\n",
    "### Interaction of Matter and Light Part II"
   ]
  },
  {
   "cell_type": "markdown",
   "metadata": {},
   "source": [
    "## Jan 29\n",
    "### Telescopes Part I"
   ]
  },
  {
   "cell_type": "markdown",
   "metadata": {},
   "source": [
    "## Jan 31\n",
    "### Telescopes Part II"
   ]
  },
  {
   "cell_type": "markdown",
   "metadata": {},
   "source": [
    "## Feb 5\n",
    "### Classification of Stellar Spectra Part I"
   ]
  },
  {
   "cell_type": "markdown",
   "metadata": {},
   "source": [
    "## Feb 7\n",
    "### Classification of Stellar Spectra Part II"
   ]
  },
  {
   "cell_type": "markdown",
   "metadata": {},
   "source": [
    "## Feb 12 (Exam I)\n",
    "### Exam I"
   ]
  },
  {
   "cell_type": "markdown",
   "metadata": {},
   "source": [
    "## Feb 14\n",
    "### Stellar Atmospheres Part I"
   ]
  },
  {
   "cell_type": "markdown",
   "metadata": {},
   "source": [
    "## Feb 19\n",
    "### Stellar Atmospheres Part II"
   ]
  },
  {
   "cell_type": "markdown",
   "metadata": {},
   "source": [
    "## Feb 21\n",
    "### Stellar Atmospheres Part III"
   ]
  },
  {
   "cell_type": "markdown",
   "metadata": {},
   "source": [
    "## Feb 26 \n",
    "### The Sun Part I"
   ]
  },
  {
   "cell_type": "markdown",
   "metadata": {},
   "source": [
    "## Feb 28 \n",
    "### The Sun Part II"
   ]
  },
  {
   "cell_type": "markdown",
   "metadata": {},
   "source": [
    "## Mar 4\n",
    "### The Interiors of Stars Part I\n",
    "### Teaching Presentations"
   ]
  ## 7.1.1

# Determining the Internal Structures of Stars
- Starting in the 1960s computers became advanced enough to carry out calculations for modeling the internal structure of stars.
- The study of stellar structure shows us that stars change over very slow timesclaes compared to human life.
 - Some stellar events can be very rapid and dramatic.
 - Stars have a limited supply of energy, where they eventually use up the energy and die.
 - Stellar evolution is the result of a constant fight against the pull of gravity.

## 7.1.2

# The Derivation of the Hydrostatic Equilibrium Equation
- An electrostatic force has opposite charges, where gravitational force is always attractive.
 - An opposing force must exit in a star to avoid collapse.
 - The pressure within a star varies with depth.

- Consider a cylinder of mass dm whose base is located a distance r from the center of a spherical star.
 - The top and bottom of the cylinder each have an area A and the height is dr.
 - We assume that the only forces acting on the cylinder are gravity and the force due to pressure, which is always normal to the top and bottom cylinder surface.
 - These forces also vary with the cylinder's distance from the center of the star.
- Using Newton's second law $F = ma$, this is the net force along the central axis of the cylinder
$dm\frac{d^2r}{dt^2}=F_g+F_{p,top}+F_{p,bot},$
where the gravitational force $F_g$ and pressure force on the top of the cylinder F_{p,top} are directed inward, while the pressure force on the bottom $F_{p,bot}$ of the cylinder is directed upward.
 - The pressure forces on the curved side of the cylinder will cancel due to symmetry and have been explicitly excluded from the expression.
 - The pressure force at the top and bottom of the cylinder are at different sepths, and we can rewrite the equation from Newton's second law

## 7.1.3
# The Equation of Mass Conservation
- A relationship for spherical symmetry can be derived using mass, radius, and density.
 - This can be done by considering a shell of mass $dM_r$ and thickness $dr$ located a distance $r$ from the center of the shell.
 - we assume that $dr$ is less than $r$
 - the volume of the shell is $4πr^2dr$
- Using the relation for density, we can find the mass conservation equation, $\frac{dM_r}{dr}=4πr^2p$
 - This equation describes the mass distribution within a star.

## 7.2
# Pressure Equation of State
- Gas has the properties of mass, density, temperature, pressure, and volume that describe how it exist.
 - This is the state that the gas is in
 - The state represents a macroscopic view of the particle and its interactions.
 - This information is necessary to derive a pressure equation of state for the gas.
- The ideal gas law is an example of a pressure equation of state.
$PV=NkT=nRT$
 - This ideal gas law relates the gas pressure P, volume V, and Temperature T, to the number of particles N.
 - k is the Boltzmann constant, and R is the gas constant.
 - For astrophysical problems, we need a pressure equation of state that is more general than the ideal gas law.

## 7.2.1
# The Derivation of the Pressure Integral
- The pressure of a gas is the force per area exerted on the walls of its container due to collisions.
- A gas is in a cylinder of length x and cross-sectional area A. The gas is composed of point particles, each of mass m, that interact through perfectly elastic collisions.
 - The gas exerts a pressure on one end of the container.
 - The impact of an individual particle on the container wall is described through a change in momentum.
 - Newton's second and third laws can be applied.
- For a perfectly elastic collision, the angle of incidence equals the angle of reflection.
 - The particle approaches the wall in the positive x-direction and rebounds along the negative x-direction.
 - Using Newton's 3rd Law, the impulse delivered tot he wall is, $2p_xi$
 - this is using the x-component of the particle's initial momentum $p_x$.
- The average force exerted by the particle per unit time can be dertermined by the time interval between collisions.
 - the shortest time interval is when the particle traverses the length of the cylinder twice before returning for a second reflection.
 - The average force exerted on the wall by a single particle over a time period is given by, $F=\frac{2p_x}{Δt}=\frac{p_xv_x}{Δx}$.
 - In this equation it is assumed that the force vector is normal to the surface.
- The average force per particle having a momentum $p$ is $F(p)=\frac{pv}{3Δx}$
- It is usually the case that the particles have a range of incident angles.
 - this makes the number of particles with momenta between $p$ and $p+dp$ similar to the Maxwell-Boltzmann distribution.
 - it is given by the expression $N_pdp$.
- The sum of all the forces exerted by particle collisions is
$F=\frac{1}{3}∫\frac{N_p}{Δx}pvdp$
- The pressure exerted on the wall is,
$P=\frac{F}{A}=\frac{1}{3}∫n_ppvdp$.
 - This equation is called the pressure integral, which allows us to compute the pressure given a distribution function.},
  {
   "cell_type": "markdown",
   "metadata": {},
   "source": [
    "## Mar 6\n",
    "### The Interiors of Stars Part II\n",
    "### Teaching Presentations"
   ]
  },
  {
   "cell_type": "markdown",
   "metadata": {},
   "source": [
    "## Mar 11 \\& 13 (Spring Break)\n",
    "### No Class"
   ]
  },
  {
   "cell_type": "markdown",
   "metadata": {},
   "source": [
    "## Mar 18\n",
    "### The Interiors of Stars Part III\n",
    "### Teaching Presentations"
   ]
  },
  {
   "cell_type": "markdown",
   "metadata": {},
   "source": [
    "## Mar 20\n",
    "### The Interiors of Stars Part IV\n",
    "### Teaching Presentations"
   ]
  },
  {
   "cell_type": "markdown",
   "metadata": {},
   "source": [
    "## Mar 25 \n",
    "### The Interstellar Medium and Star Formation Part I"
   ]
  },
  {
   "cell_type": "markdown",
   "metadata": {},
   "source": [
    "## Mar 27 (Exam II take-home)\n",
    "### The Interstellar Medium and Star Formation Part II"
   ]
  },
  {
   "cell_type": "markdown",
   "metadata": {},
   "source": [
    "## Apr 1\n",
    "### Main-Sequence and Post-Main-Sequence Stellar Evolution Part I"
   ]
  },
  {
   "cell_type": "markdown",
   "metadata": {},
   "source": [
    "## Apr 3\n",
    "### Main-Sequence and Post-Main-Sequence Stellar Evolution Part II"
   ]
  },
  {
   "cell_type": "markdown",
   "metadata": {},
   "source": [
    "## Apr 8\n",
    "### Stellar Pulsation "
   ]
  },
  {
   "cell_type": "markdown",
   "metadata": {},
   "source": [
    "## Apr 10\n",
    "### The Fate of Massive Stars Part I "
   ]
  },
  {
   "cell_type": "markdown",
   "metadata": {},
   "source": [
    "## Apr 15\n",
    "### The Fate of Massive Stars Part II"
   ]
  },
  {
   "cell_type": "markdown",
   "metadata": {},
   "source": [
    "## Apr 17\n",
    "### The Degenerate Remnants of Stars Part I"
   ]
  },
  {
   "cell_type": "markdown",
   "metadata": {},
   "source": [
    "## Apr 22\n",
    "### The Degenerate Remnants of Stars Part II"
   ]
  },
  {
   "cell_type": "markdown",
   "metadata": {},
   "source": [
    "## Apr 24\n",
    "### Review Paper Presentations"
   ]
  },
  {
   "cell_type": "markdown",
   "metadata": {},
   "source": [
    "## Apr 29\n",
    "### Review Paper Presentations"
   ]
  },
  {
   "cell_type": "markdown",
   "metadata": {},
   "source": [
    "## May 2 (Final Exam)\n",
    "### Final Exam (2:45 pm – 4:45 pm)"
   ]
  }
 ],
 "metadata": {
  "kernelspec": {
   "display_name": "base",
   "language": "python",
   "name": "python3"
  },
  "language_info": {
   "codemirror_mode": {
    "name": "ipython",
    "version": 3
   },
   "file_extension": ".py",
   "mimetype": "text/x-python",
   "name": "python",
   "nbconvert_exporter": "python",
   "pygments_lexer": "ipython3",
   "version": "3.8.8"
  },
  "orig_nbformat": 4,
  "vscode": {
   "interpreter": {
    "hash": "b46b6cd7437fccd56f9d889ab8b597852de90099948480230438ac6eaaa10679"
   }
  }
 },
 "nbformat": 4,
 "nbformat_minor": 2
}
