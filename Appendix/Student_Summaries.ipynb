{
 "cells": [
  {
   "attachments": {},
   "cell_type": "markdown",
   "metadata": {},
   "source": [
    "# Student Participation (Spring 2024)\n",
    "Students will work in pairs to produce summaries of each class meeting.  These summaries should list the main topics discussed and emphasized ideas/examples during the respective lecture.  Students are encouraged to be as detailed as possible without being overly verbose.  The summaries should be submitted as a [pull request](https://docs.github.com/en/codespaces/the-githubdev-web-based-editor) from **your forked repository** before the next class meeting.\n"
   ]
  },
  {
   "attachments": {},
   "cell_type": "markdown",
   "metadata": {},
   "source": [
    "## Jan 8\n",
    "### Class Overview\n",
    "- **Introductions**\n",
    "  - Add detail using bullets\n",
    "- **Syllabus**\n",
    "\n",
    "- **Course website**\n",
    "\n",
    "- **GitHub accounts**\n",
    "\n"
   ]
  },
  {
   "attachments": {},
   "cell_type": "markdown",
   "metadata": {},
   "source": [
    "## Jan 10 \n",
    "### Continuous Spectrum of Light Part I\n",
    "\n",
    "- **1.1 Stellar Parallax** \n",
    "\n",
    "    - Add detail using bullets\n",
    "\n",
    "\n",
    "- **1.2 The Magnitude Scale** \n",
    "    - **1.2.1 Apparent Magnitude**\n",
    "\n",
    "\n",
    "\n",
    "    - **1.2.2 Flus, Luminosity, and the Inverse Square Law** \n",
    "\n",
    "\n",
    "    - **1.2.3 Flux Ratios and Apparent Magnitude** \n",
    "\n",
    "    - **1.2.4 Absolute Magnitude and the Distance Modulus** \n",
    "\n",
    "- **1.3 The Wave Nature of Light**\n",
    "\n",
    "    - **1.3.1 The Speed of Light**\n",
    "\n",
    "    - **1.3.2 Young's Double-Slit Experiment**\n",
    "\n",
    "    - **1.3.3 Maxwell's Electromagnetic Wave Theory**\n",
    "\n",
    "    - **1.3.4 The Poynting Vector and Radiation Pressure**"
   ]
  },
  {
   "cell_type": "markdown",
   "metadata": {},
   "source": [
    "## Jan 15 (MLK Day)\n",
    "### No Class"
   ]
  },
  {
   "cell_type": "markdown",
   "metadata": {},
   "source": [
    "## Jan 17\n",
    "### Continuous Spectrum of Light Part II"
   ]
  },
  {
   "cell_type": "markdown",
   "metadata": {},
   "source": [
    "## Jan 22\n",
    "### Interaction of Matter and Light Part I"
   ]
  },
  {
   "cell_type": "markdown",
   "metadata": {},
   "source": [
    "## Jan 24\n",
    "### Interaction of Matter and Light Part II"
   ]
  },
  {
   "cell_type": "markdown",
   "metadata": {},
   "source": [
    "## Jan 29\n",
    "### Telescopes Part I"
   ]
  },
  {
   "cell_type": "markdown",
   "metadata": {},
   "source": [
    "## Jan 31\n",
    "### Telescopes Part II"
   ]
  },
  {
   "cell_type": "markdown",
   "metadata": {},
   "source": [
    "## Feb 5\n",
    "### Classification of Stellar Spectra Part I"
   ]
  },
  {
   "cell_type": "markdown",
   "metadata": {},
   "source": [
    "## Feb 7\n",
    "### Classification of Stellar Spectra Part II"
   ]
  },
  {
   "cell_type": "markdown",
   "metadata": {},
   "source": [
    "## Feb 12 (Exam I)\n",
    "### Exam I"
   ]
  },
  {
   "cell_type": "markdown",
   "metadata": {},
   "source": [
    "## Feb 14\n",
    "### Stellar Atmospheres Part I"
   ]
  },
  {
   "cell_type": "markdown",
   "metadata": {},
   "source": [
    "## Feb 19\n",
    "### Stellar Atmospheres Part II"
   ]
  },
  {
   "cell_type": "markdown",
   "metadata": {},
   "source": [
    "## Feb 21\n",
    "### Stellar Atmospheres Part III"
   ]
  },
  {
   "cell_type": "markdown",
   "metadata": {},
   "source": [
    "## Feb 26 \n",
    "### The Sun Part I"
   ]
  },
  {
   "cell_type": "markdown",
   "metadata": {},
   "source": [
    "## Feb 28 \n",
    "### The Sun Part II"
   ]
  },
  {
   "cell_type": "markdown",
   "metadata": {},
   "source": [
    "## Mar 4\n",
    "### The Interiors of Stars Part I\n",
    "### Teaching Presentations"
   ]
  },
  {
   "cell_type": "markdown",
   "metadata": {},
   "source": [
    "## Mar 6\n",
    "### The Interiors of Stars Part II\n",
    "### Teaching Presentations"
   ]
  },
  {
   "cell_type": "markdown",
   "metadata": {},
   "source": [
    "## Mar 11 \\& 13 (Spring Break)\n",
    "### No Class"
   ]
  },
  {
   "cell_type": "markdown",
   "metadata": {},
   "source": [
    "## Mar 18\n",
    "### The Interiors of Stars Part III\n",
    "### Teaching Presentations"
   ]
  },
  {
   "cell_type": "markdown",
   "metadata": {},
   "source": [
    "## Mar 20\n",
    "### The Interiors of Stars Part IV\n",
    "### Teaching Presentations"
   ]
  },
  {
   "cell_type": "markdown",
   "metadata": {},
   "source": [
    "## Mar 25 \n",
    "### The Interstellar Medium and Star Formation Part I"
   ]
  },
  {
   "cell_type": "markdown",
   "metadata": {},
   "source": [
    "## Mar 27 (Exam II take-home)\n",
    "### The Interstellar Medium and Star Formation Part II"
   ]
  },
  {
   "cell_type": "markdown",
   "metadata": {},
   "source": [
    "## Apr 1\n",
    "### Main-Sequence and Post-Main-Sequence Stellar Evolution Part I"
   ]
  },
  {
   "cell_type": "markdown",
   "metadata": {},
   "source": [
    "## Apr 3\n",
    "### Main-Sequence and Post-Main-Sequence Stellar Evolution Part II"
   ]
  },
  {
   "cell_type": "markdown",
   "metadata": {},
   "source": [
    "## Apr 8\n",
    "### Stellar Pulsation "
   ]
  },
  {
   "cell_type": "markdown",
   "metadata": {},
   "source": [
    "## Apr 10\n",
    "### The Fate of Massive Stars Part I "
   ]
  ##  10.1 Observations of Pulsating Stars
- David Fabricius was an amatuer astronomer that was observing Omicron Ceti in August 1595.
 - The brightness of the star faded over a 2 month period and eventually vanished from the sky.
 - The star was eventually seen again after a couple of months.
 - In 1662, the star was named Mira. This is the Latin word for astonishing.
 - At this time, the 11-month perios of its cycle was established.
- Originally, the changes in brightness were attributed to dark "blotches" on the stellar surface. Sometimes Mira would appear fainter when the dark areas were turned toward Earth.
 - Today, astronomers know that the changes in Mira's brightness are due to Mira being a pulsating star.
 - This means that the star dims and brightens as its surface expands and contracts.
 - Mira has an irregular light curve and a pulsation period between 100-700 days.
- John Goodricke discvered the next pulsating star in 1784.
 - He discovered that the brightness of s Cephei varies with a period of 5.367 days.
 - Mira and s Cephei are different because s Cephei varies by less than one magnitude in brightness and never fades from view.
- Pulstation stars like s Cephei are called classical Cepheids and are very important to astronomy.
### 10.1.1. The Period-Luminosity Relation
- Henrietta Swan Leavitt was hired at Harvard university in the early 20th century.
 - She was hired to compare photographic plates of the same field of stars taken at different times and to detect any star that varied in brightness.
 - She discivered 2400 classical CEpheids with periods between 1-50 days. Most of these were located in the Small Magellanic Cloud (SMC).
 - She noticed that the more lumious CEpheids took longer to complete their pulsation cycles. She compared the apparent magnitudes of theses stars against their pulsation periods.
- By doing this, Leavitt demonstrated that the apparent magnitudes of classical CEpheids are closely correlated with their periods, with an uncertainty of about 0.5 at a given period.
- The distance to the SMc is large compared to the distance between stars. This allows us to assume that all the stars in SMc are about the same distance from us. This distance is 91 kpc.
 - The distances in their apparent magnitudes must be the same as the differences in their absolute magnitudes.
 - The observed differences in the apparent brightness of the stars must reflect intrinsic differences in their luminosities.
- Calculating the accurate distances to stars by parallax is limited to the nearest spacecraf from us due to the ambiguity in a star's apparent brightness as a function of distance.
 - The prospect of determing the absolute magnitude of a distant Cepheid by timing its pulsation was exciting. This would permit the measurement of large distanceses in the universe.
 - There was an issue with the calibration of Leavitt's relation.
 - An independnet distance to a single Cepheid had to be obtained to measure its absolute magnitude and luminosity.
 - The period-luminosity relation could be used to measure the distance to any Cepheid.
- The nearest classical Cepheid is Polaris, and it is 200 pc away.
 - This distance was to great to be measured via stellar parallax. However, Hertzsprung calculated the distanc ein 1913.
 - He used the lnger baseline provided by the Sun's motion through space to find the distances to CEpheids having a specified period.
 - The calibrated period-luminosity relation for the V band is,
 $M_v=-2.81log_10P_d-1.43,$
 where $M_v$ represents the average absolute V magnitude and $P_d$ is the pulsation period in days.
 - In terms of the average stellar luminosity, the relation is given by,
 $log_10\frac{L}{L}=1.15log_10P_d+2.47$
- When measuring stars in the V band, interstellar extinction and reddening are more significant.
 -The scatter in the period-luminosity relation cna be decresed by making observations at infrared wavelenghts.
 - A fit of the period-luminosity realtion in the infrared H band is given by,
 $H=-3.234log_10P_d+16.079$.
 - The scatter can be reduced further by adding a color term to the fit because a star's color is independent of its distance.
 - The infrared color index J-K can be used to make the fit much tighter.
- Cepheids are super giant stars which are about 50 Earth radai and 100s of times more luminous.
 - this means that they can be seen over intergalactic distances, serving as beacons for astrronomical surveys of the universe.
### 10.1.2. The Pulsation Hypothesis for Brightness Variations
- In 1914, Harlow Shapley argued that the binary theory was flawed because the steller size needed would exceed the binary orbit. He proposed an alternative idea.
 - This idea was that the obsereved variations were caused by radial pulsations of single stars. He said the stars were breathing in and out.
- Four years after this, Eddington provided a theoretical framework for th epulsation hypothesis, which recieved strong support from observations.
 - The change in brightness is mainly due to the 1000K variation in the surface temperature of s Cephei.
 - The resuting changes in size make a lesser contribution to the luminosity.
- The spectral type of SCephei changes continously through the cycle from F5-G2.
 - The star is brightest when its surface is expanding outward most rapidly, after it has passed through its minimum radius.
 - The phase lag of the maximum luminosity is due to the mechanism that maintains its oscillations.
### 10.1.3. The Instability Strip
- Stellar pulsation must be a transient phenomenon because the Milky Way is estimated to contain several hundred billion stars.
 - Instead of being located on the main sequence, pulsating stars occupy a narrow strip on the right-hand side of the H-R diagram.
 - Stars evolve along the track towards the RGB and begin to pulsate as they enter the instability strip and the oscillations cease upon leaving.
### 10.1.4. Some Classes of Pulsating Stars
- Astronomers have divided pulsating stars into several classes.
- The W Virginis stars are metal-deficient Cepheids and are 4x less luminius than classical Cepheids with the same period.
 - Thus, their period luminosity relation is lower than and parallel to the classical Cepheids.
- RR Lyrae stars are horizontal-branch stars found in globular clusters.
 - All of these stars have nearly the same luminosity, so they are useful as standars candles for distance measurments.
- The S Scuti variables are evovled F stars found near the main sequence.
 - They exhibit both radial and nonradial oscillations.
## 10.2 The Physics of stellar Pulsation
- There has been a lot of knowledge obtained about the Earth's interior using seismic waves.
 - In a similar way, astrophysicists model the pulsational properties of stars to better understand their internal structure.
 - By numerically evaluating an evolutionary sequence of stellar models and comparing the pulsational characteristics of the models with observations, astronomers can test their theories of stellar structure and evolution.
 - This also offers a detailed view of the stellar interior in the process.
### 10.2.1. The Period-Density Relation
- The radial oscillations of a pulsating star are the result of sound waves resonating in the stellar interior.
 - A rough estimate of the pulsation period can be obtained by considering how long it would take a sound wave to traverse across a model star of radius R and density $ρ$.
 - II is commonly used for pulsation period in stellar pulsation theory studies.
- The pressure for hydrostatic equilibrium can be found using the unrealistic assumption of constant density.
 - Using the boundary condition P=0 at the surface, the equation can be integrated to get the pressure as a function of r.
 - The pulsation period is roughly $$ \sqrt{\frac{3π}{2γGρ}}$$
 - This equation shows that a star's pulsation period is inversely proportional to the square root of its mean density.
 - This period-mean density relation explains why the pulsation period decreases as we mopve down the instability strip from the (low density) supergiants to teh very dense white dwarfs.
- The instability strip is roughly parallel to the luminosity axis of the H-R diagram.
 - The quantitative agreement between the period-mean density rellation with the observed periods of Cepheids is relativly good.
### 10.2.2. Radial modes of Pulsation
- the sound waves involved in **radial modes** of stellar pulsation are essentially standing waves, similar to the standing waves in an organ pipe.
 - Both the star and the organ pipe can sustain several oscillation modes.
 - For the standing wave of each mode there is a node at the star's center, where the gases do not move.
 -There is also an antinode at the star's surface.
- In the **fundamental mode**, the gases move in the same direction at every point in the star. There is a single node between the center and the surface, which represents the **first overtone** mode, with the gases moving in opposite directions on either side of the node, and two nodes for the **second overtone**.
 - With radial modes, thew motion of the stellar material occurs primarily in the surface regions.
 - This is most prominent for the fundamental mode, where non-negligible amplitudes exist.
 -The majority of the classical Cepheids and W Virginis stars pulsate in the fundamental mode.
### 10.2.3. Eddington's Thermodynamic Heat Engine
- Eddington proposed that pulsating stars are thermodynamic heat engines.
 - The gases comprising the layers of the star do thermodynamic work as they expand and contract throughout the pulsation cycle.
- These chnages in pulsation amplitude continue until an equilibrium value is reached, when the total work done by all the layers is zero.
 - The net work done by each layer of the star during one cycle is the difference between heat flowing into the gas and the heat leaving the gas.
 - With driving, the heat must enter the layer during the high-temperature part of the cycle and leave during the low-temperature part.
### 10.2.4. The Nuclear Mechanism
- Eddington considered that when the center of the star is compressed, its temperature and density rise which increse the thermonuclear energy generation rate.
 - Although, there is a node at the center of the star.
 - The pulsation amplituded is very small near the center.
- The energy mechanism operates in the core of a star, but it is usually not enough to drive the star's pulsation.
 - Variations in the thermonuclear energy generation rate produce oscillations that may prevent the formation of stars.

### 10.2.5. Eddington's Valve
- With the failure of the necular mechanism, Eddington suggested an alternative valve mechanism.
 - This meachnism says that the opacity must increase with compression.
 - In most regions of a star, the opacity usually decreases with compression.
- For Kramer's law, the opacity deepends on the density and temperature of the stellar material.
 - As the l;ayers of a star are compressed, their density and temperature both increse.
 - It takes special circumstances to overcome the damping effect of most stellar layers, which explains why stellar pulsation is so rare.
### 10.2.6. Opacity Effects and the K and Y Mechanisms
- Regions of a star were found where Eddington's valve mechanism can successfully operate.
 - These are the partial ionization zones.
 -In these layers, part of the work done by the gases produces further ionization rather than an increse in temperature of the gas.
 - With a smaller temperature rise, the increase in density with compression produces a corresponding increse in the kramers opacity.
-During expansion, the temperature does not decrease as much as expected since the ions now recombine with electrons and release energy.
 - A layer of the star can absorb heat during compression, be pushed outard to release the heat during expansion, and fall back again to begin another cycle.
 - The opacity mechanism is called the k-mechanism.
- In a partial ionization zone, the k-mecanism is reinforced by the tendency of heat to flow into the zone during compression.
 - This is called the $γ$-mechanism.
### 10.2.7. The Hydrogen and Helium Partial Ionization Zones
-In most stars there are two main ionization zones called the hydrogen partial ionization zone, and the He II partial ionization zone.
 - For the first zone, both the ionization of neutral hydrogen and the first ionization of helium occur.
 - For the second zone, helium is ionized for the second time, which occurs at a higher temperature than the first.
- The location of these zones within the star determine its pulsation properties.
 - If the star is around 7500 K, the ionization zones will be near the surface. Hear the density is low. Thsi accounts for the hot blue edge of the instability strip on the H-R diagram.
 - If the star is around 6500 K, the ionization zones are found deeper in the star. The first overtoine mode may be excited.
 - In a star around the temperature 5500 K, the ionization zones occur deep enough to drive the fundamental mode of pulsation.
- If a star's surface temperature is too low, tthe onset of efficient convection in its outer layers may dapen the oscillations.
 - The transport of nearby material is more effective when the star is compressed, and the convecting stellar material may lose heat at the minimum radius.
 - The cool red edge of the instability strip is the reslut of the damping effect of convection.
-The star will be the brightest when the least mass lies between the hydrogen ionization zone and the surface.
-As a star oscillates, the location of an ionization zone changes with respect to both its radial position and the mass enclosed.  
### 10.2.8. B Cephei Stars and the Iron Opacity "Bump"
-$β$ Cephei are early B stars with effective temperatures from $2-3x10^4$ K.
 - Given thier high effective termperatures, the hydgoren is completley ionized, and the helium ionization zone is too near the surface to drive pulsations.
 - The large number of absorption lines in the spectrum of iron implies that iron contributes significantly to stellar opacaties at temperatures near $10^5$ k.
## 10.3 Modeling Stellar Pulsation

### 10.3.1 Nonlinear Hydrodynamic Models

Pulsating star isn't in hydrodynamic equlaibrium. Equations we know (like Newton's 2nd law) need there to hydrodynamic equalibrium. B/c its not in equalibrium, ew replace normal equations with difference equations which are solved NUMERICALLY. So with computer codes. Mass shells expand and contract.

### 10.3.2 Linearizing the Hydrodynamic Equations

Alternate approach to 10.3.1 is to linearize the differential equations by considering only small amplitude changes between oscillations. Example of this method for pressure $\Rightarrow P = P_0 + \delta P $ where $P$ is the pressure in a mass shell of the equalibrium model and $\delta P$ is the small change in pressure that occurs as the mass shell oscillates. $\delta P$ is a function of time and $P_0$ is a constant.

Equations that are complicated are effectively forced to be sinusoidal.

Example of a model of a pulsating star called a one-zone model.

Begin with Newton's 2nd law for a shell:

$$ \rho \frac{d^2R}{dt^2} = -\frac{GM_r\rho}{r^2} - \frac{dP}{dr} $$
$$ \frac{m}{V} \frac{d^2R}{dt^2} = -\frac{GM_rm}{r^2V} + \frac{P}{R} $$
$$ m \frac{d^2R}{dt^2} = -\frac{GM_rm}{r^2} + P A $$
$$ m \frac{d^2R}{dt^2} = -\frac{GM_rm}{r^2} + 4 \pi R^2 P $$
For equalibrium, the LHS = 0 and $\therefore$
$$ \frac{GMm}{R_0^2} = 4 \pi R_0^2 P_0 $$
Then we linearize,
$$ R = R_0 + \delta R \text{ and, }$$
$$ P = P_0 + \delta P $$
Insert this into the result, use the first-order approximation (only keeping the terms that have the first-power of deltas) and you achieve;

$$ m \frac{d^2(\delta R)}{dt^2} = 2\frac{GMm}{R_0^3} + 8 \pi R_0 P_0 \delta R + 4 \pi R^2_0 \delta P_0 $$
**This is the linearized version of Newton's 2nd law for a one-zone model**

### 10.3.3 Nonlinear and Nonadiabatic Calculations

No heat is allowed to enter or exit the layers of a stellar model, so the oscillation amplitude remains constant. This is unrealistic b/c there is heat transfer and radiation.

### 10.3.4 Dynamical Stability

The floowing equation offers an important insight into the dynamical stability of a star;

$$ \frac{d^2(\delta R)}{dt^2} = -(3\gamma - 4 ) \frac{GM}{R^3_0}$$

If $ \gamma > 4/3 \rightarrow$ RHS is positive and the solution changes from a sinusoidal finction to a decaying exponential. If $ \gamma < 4/3 $ the star will collapse b/c the increase in gas pressure is not enough to overcome the inward pull of gravity and cannot push the mass shell back out again. This is known as a dynamically unstable model.

## 10.4 Nonradial Stellar Pulsation

Some areas of the usrface will expand, and some will contract.

### 10.4.1 Nonradial Oscillations and Spherical Harmonic Functions

Look at the python code in the notes to see the different modes of nonradial oscillations. It is important to understand that stars may go between these modes without rotating. The waves of disturbances passing through the stellar gas can pass over the surfae just as a wave passes over the surface of a lake without the lake actually moving.

### 10.4.2 The $p$ and $f$ modes

Because pressure provides the restoring force for sound waves, nonradial oscillations are called p-modes.

f-modes is similar to a surface gravity wave due to the rapid rise in amplitude with radius. The frequency of the f-mode is the p and g-modes (understood later).

### 10.4.3 The Acoustic Frequency

An estimate of the angular frequency of the p-mode is made from the time for a sound wave to travel one horizontal wavelength. Horizontal wavelength is given by;

$$ \lambda_h = \frac{2\pi r}{\sqrt{\ell(\ell + 1)}} $$

where $r$ is the radial distnace from the center of the star. The acoustic frerquency at a depth in the star is;

$$ S_\ell = \frac{2 \pi}{\text{time for sound to travel $\lambda_h$}} $$

### 10.4.3 The $g$-modes

The source of these modes are gravity, internal gravity waves



},
  {
   "cell_type": "markdown",
   "metadata": {},
   "source": [
    "## Apr 15\n",
    "### The Fate of Massive Stars Part II"
   ]
  },
  {
   "cell_type": "markdown",
   "metadata": {},
   "source": [
    "## Apr 17\n",
    "### The Degenerate Remnants of Stars Part I"
   ]
  },
  {
   "cell_type": "markdown",
   "metadata": {},
   "source": [
    "## Apr 22\n",
    "### The Degenerate Remnants of Stars Part II"
   ]
  },
  {
   "cell_type": "markdown",
   "metadata": {},
   "source": [
    "## Apr 24\n",
    "### Review Paper Presentations"
   ]
  },
  {
   "cell_type": "markdown",
   "metadata": {},
   "source": [
    "## Apr 29\n",
    "### Review Paper Presentations"
   ]
  },
  {
   "cell_type": "markdown",
   "metadata": {},
   "source": [
    "## May 2 (Final Exam)\n",
    "### Final Exam (2:45 pm – 4:45 pm)"
   ]
  }
 ],
 "metadata": {
  "kernelspec": {
   "display_name": "base",
   "language": "python",
   "name": "python3"
  },
  "language_info": {
   "codemirror_mode": {
    "name": "ipython",
    "version": 3
   },
   "file_extension": ".py",
   "mimetype": "text/x-python",
   "name": "python",
   "nbconvert_exporter": "python",
   "pygments_lexer": "ipython3",
   "version": "3.8.8"
  },
  "orig_nbformat": 4,
  "vscode": {
   "interpreter": {
    "hash": "b46b6cd7437fccd56f9d889ab8b597852de90099948480230438ac6eaaa10679"
   }
  }
 },
 "nbformat": 4,
 "nbformat_minor": 2
}
